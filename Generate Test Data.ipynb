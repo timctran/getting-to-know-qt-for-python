{
 "cells": [
  {
   "cell_type": "code",
   "execution_count": 3,
   "metadata": {
    "collapsed": true
   },
   "outputs": [],
   "source": [
    "import pandas as pd\n",
    "import random\n",
    "from datetime import datetime as dt, timedelta"
   ]
  },
  {
   "cell_type": "code",
   "execution_count": 44,
   "metadata": {},
   "outputs": [],
   "source": [
    "utc_fmt = \"%Y-%m-%dT%H:%M:%S.%f\"\n",
    "data = []\n",
    "for i in range(100):\n",
    "    # make random date\n",
    "    days = random.randint(0, 365)\n",
    "    seconds = random.randint(0, 60*60*24)\n",
    "    random_date = dt.now() - timedelta(days=days, seconds=1000)\n",
    "    random_date = dt.strftime(random_date, utc_fmt)\n",
    "    random_date = random_date[:-3] + \"Z\"\n",
    "    \n",
    "    # make random magnitude with some 0's to filter out\n",
    "    random_magnitude = round(random.random()*7, 1)-1\n",
    "    random_magnitude = max(0, random_magnitude)\n",
    "    \n",
    "    # make random third column\n",
    "    random_data = random.random()\n",
    "    \n",
    "    data.append((random_date, random_magnitude, random_data))\n",
    "    \n",
    "df = pd.DataFrame(data, columns = (\"time\", \"mag\", \"other\"))"
   ]
  },
  {
   "cell_type": "code",
   "execution_count": 45,
   "metadata": {},
   "outputs": [
    {
     "data": {
      "text/html": [
       "<div>\n",
       "<style scoped>\n",
       "    .dataframe tbody tr th:only-of-type {\n",
       "        vertical-align: middle;\n",
       "    }\n",
       "\n",
       "    .dataframe tbody tr th {\n",
       "        vertical-align: top;\n",
       "    }\n",
       "\n",
       "    .dataframe thead th {\n",
       "        text-align: right;\n",
       "    }\n",
       "</style>\n",
       "<table border=\"1\" class=\"dataframe\">\n",
       "  <thead>\n",
       "    <tr style=\"text-align: right;\">\n",
       "      <th></th>\n",
       "      <th>time</th>\n",
       "      <th>mag</th>\n",
       "      <th>other</th>\n",
       "    </tr>\n",
       "  </thead>\n",
       "  <tbody>\n",
       "    <tr>\n",
       "      <th>0</th>\n",
       "      <td>2019-11-11T15:33:13.789Z</td>\n",
       "      <td>0.0</td>\n",
       "      <td>0.932410</td>\n",
       "    </tr>\n",
       "    <tr>\n",
       "      <th>1</th>\n",
       "      <td>2019-10-30T15:33:13.789Z</td>\n",
       "      <td>4.2</td>\n",
       "      <td>0.185400</td>\n",
       "    </tr>\n",
       "    <tr>\n",
       "      <th>2</th>\n",
       "      <td>2020-03-28T15:33:13.789Z</td>\n",
       "      <td>0.0</td>\n",
       "      <td>0.278586</td>\n",
       "    </tr>\n",
       "    <tr>\n",
       "      <th>3</th>\n",
       "      <td>2019-08-18T15:33:13.789Z</td>\n",
       "      <td>2.4</td>\n",
       "      <td>0.871189</td>\n",
       "    </tr>\n",
       "    <tr>\n",
       "      <th>4</th>\n",
       "      <td>2020-04-12T15:33:13.789Z</td>\n",
       "      <td>0.0</td>\n",
       "      <td>0.069544</td>\n",
       "    </tr>\n",
       "    <tr>\n",
       "      <th>5</th>\n",
       "      <td>2019-08-01T15:33:13.789Z</td>\n",
       "      <td>2.8</td>\n",
       "      <td>0.264064</td>\n",
       "    </tr>\n",
       "    <tr>\n",
       "      <th>6</th>\n",
       "      <td>2020-04-16T15:33:13.789Z</td>\n",
       "      <td>5.9</td>\n",
       "      <td>0.648529</td>\n",
       "    </tr>\n",
       "    <tr>\n",
       "      <th>7</th>\n",
       "      <td>2020-05-15T15:33:13.789Z</td>\n",
       "      <td>0.0</td>\n",
       "      <td>0.722171</td>\n",
       "    </tr>\n",
       "    <tr>\n",
       "      <th>8</th>\n",
       "      <td>2020-05-13T15:33:13.789Z</td>\n",
       "      <td>0.0</td>\n",
       "      <td>0.159733</td>\n",
       "    </tr>\n",
       "    <tr>\n",
       "      <th>9</th>\n",
       "      <td>2019-10-29T15:33:13.789Z</td>\n",
       "      <td>0.0</td>\n",
       "      <td>0.379466</td>\n",
       "    </tr>\n",
       "    <tr>\n",
       "      <th>10</th>\n",
       "      <td>2020-01-12T15:33:13.789Z</td>\n",
       "      <td>0.0</td>\n",
       "      <td>0.508540</td>\n",
       "    </tr>\n",
       "    <tr>\n",
       "      <th>11</th>\n",
       "      <td>2020-03-06T15:33:13.789Z</td>\n",
       "      <td>0.0</td>\n",
       "      <td>0.294290</td>\n",
       "    </tr>\n",
       "    <tr>\n",
       "      <th>12</th>\n",
       "      <td>2020-02-08T15:33:13.789Z</td>\n",
       "      <td>3.3</td>\n",
       "      <td>0.535509</td>\n",
       "    </tr>\n",
       "    <tr>\n",
       "      <th>13</th>\n",
       "      <td>2020-03-09T15:33:13.789Z</td>\n",
       "      <td>1.1</td>\n",
       "      <td>0.038874</td>\n",
       "    </tr>\n",
       "    <tr>\n",
       "      <th>14</th>\n",
       "      <td>2019-06-26T15:33:13.789Z</td>\n",
       "      <td>4.9</td>\n",
       "      <td>0.739281</td>\n",
       "    </tr>\n",
       "    <tr>\n",
       "      <th>15</th>\n",
       "      <td>2020-04-28T15:33:13.789Z</td>\n",
       "      <td>3.8</td>\n",
       "      <td>0.008633</td>\n",
       "    </tr>\n",
       "    <tr>\n",
       "      <th>16</th>\n",
       "      <td>2020-03-12T15:33:13.789Z</td>\n",
       "      <td>4.4</td>\n",
       "      <td>0.131852</td>\n",
       "    </tr>\n",
       "    <tr>\n",
       "      <th>17</th>\n",
       "      <td>2020-04-12T15:33:13.789Z</td>\n",
       "      <td>0.0</td>\n",
       "      <td>0.073950</td>\n",
       "    </tr>\n",
       "    <tr>\n",
       "      <th>18</th>\n",
       "      <td>2020-01-04T15:33:13.789Z</td>\n",
       "      <td>1.4</td>\n",
       "      <td>0.065197</td>\n",
       "    </tr>\n",
       "    <tr>\n",
       "      <th>19</th>\n",
       "      <td>2019-09-11T15:33:13.789Z</td>\n",
       "      <td>2.2</td>\n",
       "      <td>0.157099</td>\n",
       "    </tr>\n",
       "  </tbody>\n",
       "</table>\n",
       "</div>"
      ],
      "text/plain": [
       "                        time  mag     other\n",
       "0   2019-11-11T15:33:13.789Z  0.0  0.932410\n",
       "1   2019-10-30T15:33:13.789Z  4.2  0.185400\n",
       "2   2020-03-28T15:33:13.789Z  0.0  0.278586\n",
       "3   2019-08-18T15:33:13.789Z  2.4  0.871189\n",
       "4   2020-04-12T15:33:13.789Z  0.0  0.069544\n",
       "5   2019-08-01T15:33:13.789Z  2.8  0.264064\n",
       "6   2020-04-16T15:33:13.789Z  5.9  0.648529\n",
       "7   2020-05-15T15:33:13.789Z  0.0  0.722171\n",
       "8   2020-05-13T15:33:13.789Z  0.0  0.159733\n",
       "9   2019-10-29T15:33:13.789Z  0.0  0.379466\n",
       "10  2020-01-12T15:33:13.789Z  0.0  0.508540\n",
       "11  2020-03-06T15:33:13.789Z  0.0  0.294290\n",
       "12  2020-02-08T15:33:13.789Z  3.3  0.535509\n",
       "13  2020-03-09T15:33:13.789Z  1.1  0.038874\n",
       "14  2019-06-26T15:33:13.789Z  4.9  0.739281\n",
       "15  2020-04-28T15:33:13.789Z  3.8  0.008633\n",
       "16  2020-03-12T15:33:13.789Z  4.4  0.131852\n",
       "17  2020-04-12T15:33:13.789Z  0.0  0.073950\n",
       "18  2020-01-04T15:33:13.789Z  1.4  0.065197\n",
       "19  2019-09-11T15:33:13.789Z  2.2  0.157099"
      ]
     },
     "execution_count": 45,
     "metadata": {},
     "output_type": "execute_result"
    }
   ],
   "source": [
    "df.head(20)"
   ]
  },
  {
   "cell_type": "code",
   "execution_count": 46,
   "metadata": {
    "collapsed": true
   },
   "outputs": [],
   "source": [
    "df.to_csv(\"test_data.csv\")"
   ]
  },
  {
   "cell_type": "markdown",
   "metadata": {},
   "source": [
    "# Checking compatibility with Qt example"
   ]
  },
  {
   "cell_type": "code",
   "execution_count": 38,
   "metadata": {
    "collapsed": true
   },
   "outputs": [],
   "source": [
    "import argparse\n",
    "import pandas as pd\n",
    "\n",
    "from PySide2.QtCore import QDateTime, QTimeZone\n",
    "\n",
    "\n",
    "def transform_date(utc, timezone=None):\n",
    "    utc_fmt = \"yyyy-MM-ddTHH:mm:ss.zzzZ\"\n",
    "    new_date = QDateTime().fromString(utc, utc_fmt)\n",
    "    if timezone:\n",
    "        new_date.setTimeZone(timezone)\n",
    "    return new_date"
   ]
  },
  {
   "cell_type": "code",
   "execution_count": 43,
   "metadata": {},
   "outputs": [
    {
     "data": {
      "text/plain": [
       "PySide2.QtCore.QDateTime(2019, 10, 17, 15, 32, 1, 704, 0)"
      ]
     },
     "execution_count": 43,
     "metadata": {},
     "output_type": "execute_result"
    }
   ],
   "source": [
    "transform_date(random_date)"
   ]
  }
 ],
 "metadata": {
  "kernelspec": {
   "display_name": "Python 3",
   "language": "python",
   "name": "python3"
  },
  "language_info": {
   "codemirror_mode": {
    "name": "ipython",
    "version": 3
   },
   "file_extension": ".py",
   "mimetype": "text/x-python",
   "name": "python",
   "nbconvert_exporter": "python",
   "pygments_lexer": "ipython3",
   "version": "3.6.1"
  }
 },
 "nbformat": 4,
 "nbformat_minor": 2
}
