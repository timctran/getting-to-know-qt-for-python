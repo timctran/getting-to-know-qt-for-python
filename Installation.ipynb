{
 "cells": [
  {
   "cell_type": "markdown",
   "metadata": {},
   "source": [
    "# Installation"
   ]
  },
  {
   "cell_type": "code",
   "execution_count": null,
   "metadata": {
    "collapsed": true
   },
   "outputs": [],
   "source": [
    "# !pip install PySide2 "
   ]
  },
  {
   "cell_type": "markdown",
   "metadata": {},
   "source": [
    "# Test Installation"
   ]
  },
  {
   "cell_type": "code",
   "execution_count": 1,
   "metadata": {},
   "outputs": [
    {
     "name": "stdout",
     "output_type": "stream",
     "text": [
      "5.14.2.1\n",
      "(5, 14, 2.1, '', '')\n",
      "5.14.2\n",
      "(5, 14, 2)\n"
     ]
    }
   ],
   "source": [
    "import PySide2.QtCore\n",
    "\n",
    "# Prints PySide2 version\n",
    "# e.g. 5.11.1a1\n",
    "print(PySide2.__version__)\n",
    "\n",
    "# Gets a tuple with each version component\n",
    "# e.g. (5, 11, 1, 'a', 1)\n",
    "print(PySide2.__version_info__)\n",
    "\n",
    "# Prints the Qt version used to compile PySide2\n",
    "# e.g. \"5.11.2\"\n",
    "print(PySide2.QtCore.__version__)\n",
    "\n",
    "# Gets a tuple with each version components of Qt used to compile PySide2\n",
    "# e.g. (5, 11, 2)\n",
    "print(PySide2.QtCore.__version_info__)"
   ]
  }
 ],
 "metadata": {
  "kernelspec": {
   "display_name": "Python 3",
   "language": "python",
   "name": "python3"
  },
  "language_info": {
   "codemirror_mode": {
    "name": "ipython",
    "version": 3
   },
   "file_extension": ".py",
   "mimetype": "text/x-python",
   "name": "python",
   "nbconvert_exporter": "python",
   "pygments_lexer": "ipython3",
   "version": "3.6.1"
  }
 },
 "nbformat": 4,
 "nbformat_minor": 2
}
